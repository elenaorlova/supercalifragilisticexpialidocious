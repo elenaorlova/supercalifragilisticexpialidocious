{
  "nbformat": 4,
  "nbformat_minor": 0,
  "metadata": {
    "colab": {
      "name": "main.ipynb",
      "provenance": [],
      "collapsed_sections": []
    },
    "kernelspec": {
      "name": "python3",
      "display_name": "Python 3"
    }
  },
  "cells": [
    {
      "cell_type": "markdown",
      "metadata": {
        "id": "Uu72OcSP3yM6",
        "colab_type": "text"
      },
      "source": [
        "# Инициализация библиотек\n"
      ]
    },
    {
      "cell_type": "code",
      "metadata": {
        "id": "8SvR8UMUjOg3",
        "colab_type": "code",
        "colab": {}
      },
      "source": [
        "import pandas as pd\n",
        "import numpy as np\n",
        "import matplotlib.pyplot as plt\n",
        "import statsmodels.api as sm"
      ],
      "execution_count": 0,
      "outputs": []
    },
    {
      "cell_type": "markdown",
      "metadata": {
        "id": "-E50oJGa36QM",
        "colab_type": "text"
      },
      "source": [
        "Парсинг данных"
      ]
    },
    {
      "cell_type": "code",
      "metadata": {
        "id": "X84pMndEeg7M",
        "colab_type": "code",
        "colab": {}
      },
      "source": [
        "xl = pd.ExcelFile('clean_data_NEW.xlsx')\n",
        "df = xl.parse('data')\n",
        "df = df.dropna()\n",
        "\n",
        "dff = df.loc[df['overall_daily'] == 0.00] #result\n",
        "df = df.loc[df['overall_daily'] != 0.00]"
      ],
      "execution_count": 0,
      "outputs": []
    },
    {
      "cell_type": "markdown",
      "metadata": {
        "id": "3ctEA5IH4Kpm",
        "colab_type": "text"
      },
      "source": [
        "# Линейная регрессия\n",
        "\n"
      ]
    },
    {
      "cell_type": "code",
      "metadata": {
        "id": "fuAfmzBslQ5Z",
        "colab_type": "code",
        "colab": {}
      },
      "source": [
        "X = df[['hh_500', 'value2', 'NEAR_Business_centers', 'NEAR_Malls', 'NEAR_Stations']]\n",
        "y = df['overall_daily']"
      ],
      "execution_count": 0,
      "outputs": []
    },
    {
      "cell_type": "code",
      "metadata": {
        "id": "NKzfGdGPm03P",
        "colab_type": "code",
        "outputId": "22c637d9-0a91-4e8a-c280-2e23c1b47e7c",
        "colab": {
          "base_uri": "https://localhost:8080/",
          "height": 52
        }
      },
      "source": [
        "X = sm.add_constant(X)\n",
        "model = sm.OLS(y, X).fit()\n",
        "predictions = model.predict(X)"
      ],
      "execution_count": 610,
      "outputs": [
        {
          "output_type": "stream",
          "text": [
            "/usr/local/lib/python3.6/dist-packages/numpy/core/fromnumeric.py:2495: FutureWarning: Method .ptp is deprecated and will be removed in a future version. Use numpy.ptp instead.\n",
            "  return ptp(axis=axis, out=out, **kwargs)\n"
          ],
          "name": "stderr"
        }
      ]
    },
    {
      "cell_type": "markdown",
      "metadata": {
        "id": "g3L1q7ocuDyW",
        "colab_type": "text"
      },
      "source": [
        "В результатах работы мы видим, что коэффициент детерминации = 0.241 - что является очень плоохим показателем"
      ]
    },
    {
      "cell_type": "code",
      "metadata": {
        "id": "krmu17kJnNwt",
        "colab_type": "code",
        "outputId": "a70bde50-adb4-4606-db32-0afb0147bbae",
        "colab": {
          "base_uri": "https://localhost:8080/",
          "height": 532
        }
      },
      "source": [
        "print_model = model.summary()\n",
        "print(print_model)"
      ],
      "execution_count": 611,
      "outputs": [
        {
          "output_type": "stream",
          "text": [
            "                            OLS Regression Results                            \n",
            "==============================================================================\n",
            "Dep. Variable:          overall_daily   R-squared:                       0.261\n",
            "Model:                            OLS   Adj. R-squared:                  0.241\n",
            "Method:                 Least Squares   F-statistic:                     12.93\n",
            "Date:                Sun, 01 Dec 2019   Prob (F-statistic):           8.85e-11\n",
            "Time:                        09:16:40   Log-Likelihood:                 92.508\n",
            "No. Observations:                 189   AIC:                            -173.0\n",
            "Df Residuals:                     183   BIC:                            -153.6\n",
            "Df Model:                           5                                         \n",
            "Covariance Type:            nonrobust                                         \n",
            "=========================================================================================\n",
            "                            coef    std err          t      P>|t|      [0.025      0.975]\n",
            "-----------------------------------------------------------------------------------------\n",
            "const                    -0.6460      0.159     -4.066      0.000      -0.959      -0.333\n",
            "hh_500                    0.1290      0.059      2.169      0.031       0.012       0.246\n",
            "value2                    0.9779      0.201      4.857      0.000       0.581       1.375\n",
            "NEAR_Business_centers     0.1093      0.061      1.797      0.074      -0.011       0.229\n",
            "NEAR_Malls                0.0816      0.036      2.280      0.024       0.011       0.152\n",
            "NEAR_Stations             0.0017      0.023      0.074      0.941      -0.044       0.047\n",
            "==============================================================================\n",
            "Omnibus:                       48.822   Durbin-Watson:                   1.425\n",
            "Prob(Omnibus):                  0.000   Jarque-Bera (JB):               98.675\n",
            "Skew:                           1.215   Prob(JB):                     3.74e-22\n",
            "Kurtosis:                       5.573   Cond. No.                         32.7\n",
            "==============================================================================\n",
            "\n",
            "Warnings:\n",
            "[1] Standard Errors assume that the covariance matrix of the errors is correctly specified.\n"
          ],
          "name": "stdout"
        }
      ]
    },
    {
      "cell_type": "markdown",
      "metadata": {
        "id": "SPaWfxJk4Qzi",
        "colab_type": "text"
      },
      "source": [
        "# Логистическая регрессия (statsmodels)\n",
        "\n",
        "Линейная регрессия не сработала, пробуем логистическую. Коэффициент детерминации = - 0.812, что ещё хуже, чем в линейной регрессии."
      ]
    },
    {
      "cell_type": "code",
      "metadata": {
        "id": "PepIhvAkpRgD",
        "colab_type": "code",
        "outputId": "df311013-8b56-4da8-d8c6-9da06c745f80",
        "colab": {
          "base_uri": "https://localhost:8080/",
          "height": 444
        }
      },
      "source": [
        "x1 = X\n",
        "y1 = y\n",
        "logit_model=sm.Logit(y1,x1)\n",
        "result=logit_model.fit()\n",
        "print(result.summary2())"
      ],
      "execution_count": 612,
      "outputs": [
        {
          "output_type": "stream",
          "text": [
            "Optimization terminated successfully.\n",
            "         Current function value: 0.394175\n",
            "         Iterations 6\n",
            "                            Results: Logit\n",
            "======================================================================\n",
            "Model:                 Logit              Pseudo R-squared:   -0.788  \n",
            "Dependent Variable:    overall_daily      AIC:                160.9981\n",
            "Date:                  2019-12-01 09:16   BIC:                180.4486\n",
            "No. Observations:      189                Log-Likelihood:     -74.499 \n",
            "Df Model:              5                  LL-Null:            -41.657 \n",
            "Df Residuals:          183                LLR p-value:        1.0000  \n",
            "Converged:             1.0000             Scale:              1.0000  \n",
            "No. Iterations:        6.0000                                         \n",
            "----------------------------------------------------------------------\n",
            "                       Coef.  Std.Err.    z    P>|z|   [0.025   0.975]\n",
            "----------------------------------------------------------------------\n",
            "const                 -6.2343   2.5407 -2.4538 0.0141 -11.2141 -1.2546\n",
            "hh_500                 0.7689   0.9392  0.8187 0.4130  -1.0719  2.6098\n",
            "value2                 5.5346   3.1732  1.7442 0.0811  -0.6847 11.7539\n",
            "NEAR_Business_centers  0.5071   0.8491  0.5972 0.5504  -1.1571  2.1713\n",
            "NEAR_Malls             0.4140   0.5311  0.7795 0.4357  -0.6269  1.4549\n",
            "NEAR_Stations          0.0119   0.3765  0.0315 0.9748  -0.7260  0.7498\n",
            "======================================================================\n",
            "\n"
          ],
          "name": "stdout"
        }
      ]
    },
    {
      "cell_type": "markdown",
      "metadata": {
        "id": "SUOa23ak4nai",
        "colab_type": "text"
      },
      "source": [
        "# Random forest\n",
        "\n",
        "Ниже будет история о том, как мы получили -0.71 % точности\n",
        "\n"
      ]
    },
    {
      "cell_type": "code",
      "metadata": {
        "id": "3MEWe4ypb7rz",
        "colab_type": "code",
        "colab": {
          "base_uri": "https://localhost:8080/",
          "height": 35
        },
        "outputId": "a24cf81d-731d-4cd8-f416-c8c648194467"
      },
      "source": [
        "xl = pd.ExcelFile('clean_data_NEW.xlsx')\n",
        "df = xl.parse('data')\n",
        "df = df.dropna()\n",
        "\n",
        "dff = df.loc[df['overall_daily'] == 0.00]\n",
        "df = df.loc[df['overall_daily'] != 0.00]\n",
        "\n",
        "print(dff.shape, df.shape)"
      ],
      "execution_count": 613,
      "outputs": [
        {
          "output_type": "stream",
          "text": [
            "(228, 11) (189, 11)\n"
          ],
          "name": "stdout"
        }
      ]
    },
    {
      "cell_type": "code",
      "metadata": {
        "id": "Bb7wfvKat8aT",
        "colab_type": "code",
        "colab": {
          "base_uri": "https://localhost:8080/",
          "height": 55
        },
        "outputId": "16770455-8d01-4c53-ada5-3b033beb7460"
      },
      "source": [
        "import numpy as np\n",
        "df = df.dropna()\n",
        "labels = np.array(df['overall_daily'])\n",
        "\n",
        "dff = dff.dropna()\n",
        "'''\n",
        "features_result = dff[['hh_500','value1', 'value2','NEAR_Malls', 'NEAR_Business_centers', 'NEAR_Stations']]\n",
        "feature_list_result = list(dff.columns)\n",
        "features_result = np.array(dff)\n",
        "\n",
        "print(features.shape, features_result.shape)'''"
      ],
      "execution_count": 614,
      "outputs": [
        {
          "output_type": "execute_result",
          "data": {
            "text/plain": [
              "\"\\nfeatures_result = dff[['hh_500','value1', 'value2','NEAR_Malls', 'NEAR_Business_centers', 'NEAR_Stations']]\\nfeature_list_result = list(dff.columns)\\nfeatures_result = np.array(dff)\\n\\nprint(features.shape, features_result.shape)\""
            ]
          },
          "metadata": {
            "tags": []
          },
          "execution_count": 614
        }
      ]
    },
    {
      "cell_type": "code",
      "metadata": {
        "id": "uY7R9KysuUi-",
        "colab_type": "code",
        "colab": {}
      },
      "source": [
        "from sklearn.model_selection import train_test_split\n",
        "df = df.drop(['ADDRESS', 'REGION', 'Unnamed: 0', 'overall_daily', 'cashbox_MAX'], axis=1)\n",
        "\n",
        "train_features, test_features, train_labels, test_labels = train_test_split(df, labels, test_size = 0.25, random_state = 42)"
      ],
      "execution_count": 0,
      "outputs": []
    },
    {
      "cell_type": "code",
      "metadata": {
        "id": "lUCq3OciuqGA",
        "colab_type": "code",
        "colab": {
          "base_uri": "https://localhost:8080/",
          "height": 141
        },
        "outputId": "cccd5edf-5091-4857-e614-df74631e3c8b"
      },
      "source": [
        "from sklearn.ensemble import RandomForestRegressor\n",
        "rf = RandomForestRegressor(n_estimators = 100, random_state = 42)\n",
        "rf.fit(train_features, train_labels)"
      ],
      "execution_count": 631,
      "outputs": [
        {
          "output_type": "execute_result",
          "data": {
            "text/plain": [
              "RandomForestRegressor(bootstrap=True, criterion='mse', max_depth=None,\n",
              "                      max_features='auto', max_leaf_nodes=None,\n",
              "                      min_impurity_decrease=0.0, min_impurity_split=None,\n",
              "                      min_samples_leaf=1, min_samples_split=2,\n",
              "                      min_weight_fraction_leaf=0.0, n_estimators=100,\n",
              "                      n_jobs=None, oob_score=False, random_state=42, verbose=0,\n",
              "                      warm_start=False)"
            ]
          },
          "metadata": {
            "tags": []
          },
          "execution_count": 631
        }
      ]
    },
    {
      "cell_type": "code",
      "metadata": {
        "id": "a5dksoeGvI35",
        "colab_type": "code",
        "colab": {
          "base_uri": "https://localhost:8080/",
          "height": 35
        },
        "outputId": "7c3319fc-87aa-4908-9946-ca0cf1305e69"
      },
      "source": [
        "predictions = rf.predict(test_features)\n",
        "feature_true = dff[['hh_500','value1', 'value2','NEAR_Malls', 'NEAR_Business_centers', 'NEAR_Stations']]\n",
        "errors = abs(predictions - test_labels)\n",
        "print('Mean Absolute Error:', round(np.mean(errors), 4), 'degrees.')"
      ],
      "execution_count": 632,
      "outputs": [
        {
          "output_type": "stream",
          "text": [
            "Mean Absolute Error: 0.1149 degrees.\n"
          ],
          "name": "stdout"
        }
      ]
    },
    {
      "cell_type": "code",
      "metadata": {
        "id": "j-QAlsVfxfzW",
        "colab_type": "code",
        "colab": {
          "base_uri": "https://localhost:8080/",
          "height": 35
        },
        "outputId": "a52c8cf0-1c47-41a7-9495-48fe46927c2a"
      },
      "source": [
        "mape = 100 * (errors / test_labels)\n",
        "accuracy = 100 - np.mean(mape)\n",
        "print('Accuracy:', round(accuracy, 2), '%.')\n",
        "\n",
        "features= dff[['hh_500','value1', 'value2','NEAR_Malls', 'NEAR_Business_centers', 'NEAR_Stations']]\n",
        "feature_list = list(dff.columns)\n",
        "features = np.array(dff)\n",
        "\n",
        "features = np.array(feature_true)\n",
        "predictions_true = rf.predict(features)"
      ],
      "execution_count": 633,
      "outputs": [
        {
          "output_type": "stream",
          "text": [
            "Accuracy: -0.71 %.\n"
          ],
          "name": "stdout"
        }
      ]
    },
    {
      "cell_type": "markdown",
      "metadata": {
        "id": "OadiXgsKxTs_",
        "colab_type": "text"
      },
      "source": [
        "# Пробуем все остальные варианты\n",
        "\n",
        "и получаем 50 % точности\n"
      ]
    },
    {
      "cell_type": "code",
      "metadata": {
        "colab_type": "code",
        "id": "b79hYW4Ww95c",
        "colab": {}
      },
      "source": [
        "from sklearn import model_selection\n",
        "from sklearn.metrics import classification_report\n",
        "from sklearn.metrics import confusion_matrix\n",
        "from sklearn.metrics import accuracy_score\n",
        "from sklearn.linear_model import LogisticRegression\n",
        "from sklearn.tree import DecisionTreeClassifier\n",
        "from sklearn.neighbors import KNeighborsClassifier\n",
        "from sklearn.discriminant_analysis import LinearDiscriminantAnalysis\n",
        "from sklearn.naive_bayes import  BernoulliNB\n",
        "from sklearn.ensemble import RandomForestClassifier\n",
        "from sklearn.svm import SVR\n",
        "from sklearn.ensemble import AdaBoostClassifier\n",
        "from sklearn.neural_network import MLPClassifier\n",
        "\n",
        "xl = pd.ExcelFile('clean_data_NEW.xlsx')\n",
        "df = xl.parse('data')\n",
        "df = df.dropna()\n",
        "\n",
        "models = []\n",
        "models.append(('LR', LogisticRegression()))\n",
        "models.append(('LDA', LinearDiscriminantAnalysis()))\n",
        "models.append(('KNN', KNeighborsClassifier()))\n",
        "models.append(('CART', DecisionTreeClassifier()))\n",
        "models.append(('BNB', BernoulliNB()))\n",
        "models.append(('RF', RandomForestClassifier()))\n",
        "models.append(('GBM', AdaBoostClassifier()))\n",
        "#models.append(('NN', MLPClassifier()))\n",
        "\n",
        "X = df[['hh_500','value1', 'value2', 'NEAR_Business_centers']]\n",
        "\n",
        "y = df['overall_daily']\n",
        "X_train, X_test, y_train, y_test = train_test_split(X, y, test_size=0.3, random_state=0)\n",
        "\n",
        "lab_enc = preprocessing.LabelEncoder()\n",
        "encoded = lab_enc.fit_transform(y_train)"
      ],
      "execution_count": 0,
      "outputs": []
    },
    {
      "cell_type": "code",
      "metadata": {
        "id": "AyJg11VwKneg",
        "colab_type": "code",
        "colab": {
          "base_uri": "https://localhost:8080/",
          "height": 141
        },
        "outputId": "cd42bc5b-8f82-46ca-a41f-688c0f056368"
      },
      "source": [
        "import warnings\n",
        "warnings.filterwarnings('ignore')\n",
        "\n",
        "results = []\n",
        "names = []\n",
        "for name, model in models:\n",
        "    kfold = model_selection.KFold(n_splits=100, random_state=7)\n",
        "    cv_results = model_selection.cross_val_score(model, X_train, encoded, cv=kfold, scoring='accuracy')\n",
        "    results.append(cv_results)\n",
        "    names.append(name)\n",
        "    msg = \"%s: %f (%f)\" % (name, cv_results.mean(), cv_results.std())\n",
        "    print(msg)\n",
        "\n",
        "#models[0].fit(X_train, y_train)\n",
        "#model[0].predict(X_test) "
      ],
      "execution_count": 645,
      "outputs": [
        {
          "output_type": "stream",
          "text": [
            "LR: 0.555000 (0.256098)\n",
            "LDA: 0.526667 (0.264281)\n",
            "KNN: 0.518333 (0.269665)\n",
            "CART: 0.425000 (0.294746)\n",
            "BNB: 0.553333 (0.255908)\n",
            "RF: 0.501667 (0.282346)\n",
            "GBM: 0.526667 (0.264281)\n"
          ],
          "name": "stdout"
        }
      ]
    },
    {
      "cell_type": "code",
      "metadata": {
        "id": "TkQD_8tAFMRL",
        "colab_type": "code",
        "colab": {
          "base_uri": "https://localhost:8080/",
          "height": 135
        },
        "outputId": "f52853c2-4369-44ee-9f80-76adb626e00f"
      },
      "source": [
        "xl = pd.ExcelFile('clean_data_NEW.xlsx')\n",
        "xl = xl.parse('data')\n",
        "xl = xl.drop('Unnamed: 0', axis=1)\n",
        "\n",
        "xl.head(3)"
      ],
      "execution_count": 646,
      "outputs": [
        {
          "output_type": "execute_result",
          "data": {
            "text/html": [
              "<div>\n",
              "<style scoped>\n",
              "    .dataframe tbody tr th:only-of-type {\n",
              "        vertical-align: middle;\n",
              "    }\n",
              "\n",
              "    .dataframe tbody tr th {\n",
              "        vertical-align: top;\n",
              "    }\n",
              "\n",
              "    .dataframe thead th {\n",
              "        text-align: right;\n",
              "    }\n",
              "</style>\n",
              "<table border=\"1\" class=\"dataframe\">\n",
              "  <thead>\n",
              "    <tr style=\"text-align: right;\">\n",
              "      <th></th>\n",
              "      <th>ADDRESS</th>\n",
              "      <th>REGION</th>\n",
              "      <th>overall_daily</th>\n",
              "      <th>cashbox_MAX</th>\n",
              "      <th>hh_500</th>\n",
              "      <th>value1</th>\n",
              "      <th>value2</th>\n",
              "      <th>NEAR_Malls</th>\n",
              "      <th>NEAR_Business_centers</th>\n",
              "      <th>NEAR_Stations</th>\n",
              "    </tr>\n",
              "  </thead>\n",
              "  <tbody>\n",
              "    <tr>\n",
              "      <th>0</th>\n",
              "      <td>г.Калуга, Литейная ул., 25/15</td>\n",
              "      <td>Калужская область</td>\n",
              "      <td>0.358696</td>\n",
              "      <td>0.684211</td>\n",
              "      <td>0.787315</td>\n",
              "      <td>0.999901</td>\n",
              "      <td>0.970723</td>\n",
              "      <td>0.0</td>\n",
              "      <td>0.0</td>\n",
              "      <td>1.0</td>\n",
              "    </tr>\n",
              "    <tr>\n",
              "      <th>1</th>\n",
              "      <td>г.Калуга, Гагарина ул., 1</td>\n",
              "      <td>Калужская область</td>\n",
              "      <td>0.000000</td>\n",
              "      <td>0.000000</td>\n",
              "      <td>0.651560</td>\n",
              "      <td>0.996832</td>\n",
              "      <td>0.928817</td>\n",
              "      <td>1.0</td>\n",
              "      <td>1.0</td>\n",
              "      <td>1.0</td>\n",
              "    </tr>\n",
              "    <tr>\n",
              "      <th>2</th>\n",
              "      <td>г.Калуга, Кибальчича ул., 25</td>\n",
              "      <td>Калужская область</td>\n",
              "      <td>0.336957</td>\n",
              "      <td>0.631579</td>\n",
              "      <td>0.568082</td>\n",
              "      <td>1.000000</td>\n",
              "      <td>0.986223</td>\n",
              "      <td>1.0</td>\n",
              "      <td>0.0</td>\n",
              "      <td>0.0</td>\n",
              "    </tr>\n",
              "  </tbody>\n",
              "</table>\n",
              "</div>"
            ],
            "text/plain": [
              "                         ADDRESS  ... NEAR_Stations\n",
              "0  г.Калуга, Литейная ул., 25/15  ...           1.0\n",
              "1      г.Калуга, Гагарина ул., 1  ...           1.0\n",
              "2   г.Калуга, Кибальчича ул., 25  ...           0.0\n",
              "\n",
              "[3 rows x 10 columns]"
            ]
          },
          "metadata": {
            "tags": []
          },
          "execution_count": 646
        }
      ]
    },
    {
      "cell_type": "code",
      "metadata": {
        "id": "uzB_cr2OqKSj",
        "colab_type": "code",
        "colab": {
          "base_uri": "https://localhost:8080/",
          "height": 282
        },
        "outputId": "b89e3e6b-d3ec-4e3c-d430-5ecc8169d481"
      },
      "source": [
        "def histogram_intersection(a, b):\n",
        "  v = np.minimum(a, b).sum().round(decimals=1)\n",
        "  return v\n",
        "xl.corr(method=histogram_intersection)"
      ],
      "execution_count": 647,
      "outputs": [
        {
          "output_type": "execute_result",
          "data": {
            "text/html": [
              "<div>\n",
              "<style scoped>\n",
              "    .dataframe tbody tr th:only-of-type {\n",
              "        vertical-align: middle;\n",
              "    }\n",
              "\n",
              "    .dataframe tbody tr th {\n",
              "        vertical-align: top;\n",
              "    }\n",
              "\n",
              "    .dataframe thead th {\n",
              "        text-align: right;\n",
              "    }\n",
              "</style>\n",
              "<table border=\"1\" class=\"dataframe\">\n",
              "  <thead>\n",
              "    <tr style=\"text-align: right;\">\n",
              "      <th></th>\n",
              "      <th>overall_daily</th>\n",
              "      <th>cashbox_MAX</th>\n",
              "      <th>hh_500</th>\n",
              "      <th>value1</th>\n",
              "      <th>value2</th>\n",
              "      <th>NEAR_Malls</th>\n",
              "      <th>NEAR_Business_centers</th>\n",
              "      <th>NEAR_Stations</th>\n",
              "    </tr>\n",
              "  </thead>\n",
              "  <tbody>\n",
              "    <tr>\n",
              "      <th>overall_daily</th>\n",
              "      <td>1.0</td>\n",
              "      <td>41.6</td>\n",
              "      <td>34.8</td>\n",
              "      <td>41.6</td>\n",
              "      <td>41.5</td>\n",
              "      <td>8.2</td>\n",
              "      <td>2.8</td>\n",
              "      <td>14.4</td>\n",
              "    </tr>\n",
              "    <tr>\n",
              "      <th>cashbox_MAX</th>\n",
              "      <td>41.6</td>\n",
              "      <td>1.0</td>\n",
              "      <td>51.7</td>\n",
              "      <td>69.9</td>\n",
              "      <td>69.5</td>\n",
              "      <td>11.2</td>\n",
              "      <td>3.8</td>\n",
              "      <td>23.0</td>\n",
              "    </tr>\n",
              "    <tr>\n",
              "      <th>hh_500</th>\n",
              "      <td>34.8</td>\n",
              "      <td>51.7</td>\n",
              "      <td>1.0</td>\n",
              "      <td>108.6</td>\n",
              "      <td>108.2</td>\n",
              "      <td>16.9</td>\n",
              "      <td>7.2</td>\n",
              "      <td>33.5</td>\n",
              "    </tr>\n",
              "    <tr>\n",
              "      <th>value1</th>\n",
              "      <td>41.6</td>\n",
              "      <td>69.9</td>\n",
              "      <td>108.6</td>\n",
              "      <td>1.0</td>\n",
              "      <td>336.2</td>\n",
              "      <td>42.7</td>\n",
              "      <td>14.9</td>\n",
              "      <td>98.1</td>\n",
              "    </tr>\n",
              "    <tr>\n",
              "      <th>value2</th>\n",
              "      <td>41.5</td>\n",
              "      <td>69.5</td>\n",
              "      <td>108.2</td>\n",
              "      <td>336.2</td>\n",
              "      <td>1.0</td>\n",
              "      <td>36.8</td>\n",
              "      <td>12.6</td>\n",
              "      <td>82.0</td>\n",
              "    </tr>\n",
              "    <tr>\n",
              "      <th>NEAR_Malls</th>\n",
              "      <td>8.2</td>\n",
              "      <td>11.2</td>\n",
              "      <td>16.9</td>\n",
              "      <td>42.7</td>\n",
              "      <td>36.8</td>\n",
              "      <td>1.0</td>\n",
              "      <td>6.0</td>\n",
              "      <td>22.0</td>\n",
              "    </tr>\n",
              "    <tr>\n",
              "      <th>NEAR_Business_centers</th>\n",
              "      <td>2.8</td>\n",
              "      <td>3.8</td>\n",
              "      <td>7.2</td>\n",
              "      <td>14.9</td>\n",
              "      <td>12.6</td>\n",
              "      <td>6.0</td>\n",
              "      <td>1.0</td>\n",
              "      <td>8.0</td>\n",
              "    </tr>\n",
              "    <tr>\n",
              "      <th>NEAR_Stations</th>\n",
              "      <td>14.4</td>\n",
              "      <td>23.0</td>\n",
              "      <td>33.5</td>\n",
              "      <td>98.1</td>\n",
              "      <td>82.0</td>\n",
              "      <td>22.0</td>\n",
              "      <td>8.0</td>\n",
              "      <td>1.0</td>\n",
              "    </tr>\n",
              "  </tbody>\n",
              "</table>\n",
              "</div>"
            ],
            "text/plain": [
              "                       overall_daily  ...  NEAR_Stations\n",
              "overall_daily                    1.0  ...           14.4\n",
              "cashbox_MAX                     41.6  ...           23.0\n",
              "hh_500                          34.8  ...           33.5\n",
              "value1                          41.6  ...           98.1\n",
              "value2                          41.5  ...           82.0\n",
              "NEAR_Malls                       8.2  ...           22.0\n",
              "NEAR_Business_centers            2.8  ...            8.0\n",
              "NEAR_Stations                   14.4  ...            1.0\n",
              "\n",
              "[8 rows x 8 columns]"
            ]
          },
          "metadata": {
            "tags": []
          },
          "execution_count": 647
        }
      ]
    },
    {
      "cell_type": "code",
      "metadata": {
        "id": "M0CQBvTCsWMo",
        "colab_type": "code",
        "colab": {
          "base_uri": "https://localhost:8080/",
          "height": 280
        },
        "outputId": "52fff52e-c124-4eb7-dce5-9f4f43251c39"
      },
      "source": [
        "import matplotlib.pyplot as plt\n",
        "\n",
        "#xl = xl.drop('NEAR_Malls', axis=1)\n",
        "xl = xl.drop('REGION', axis=1)\n",
        "xl = xl.drop('ADDRESS', axis=1)\n",
        "plt.matshow(xl.corr(method=histogram_intersection))\n",
        "plt.show()"
      ],
      "execution_count": 656,
      "outputs": [
        {
          "output_type": "display_data",
          "data": {
            "image/png": "[encoded data removed]",
            "text/plain": [
              "<Figure size 288x288 with 1 Axes>"
            ]
          },
          "metadata": {
            "tags": []
          }
        }
      ]
    },
    {
      "cell_type": "code",
      "metadata": {
        "id": "RS5kNfxVzoiX",
        "colab_type": "code",
        "colab": {
          "base_uri": "https://localhost:8080/",
          "height": 285
        },
        "outputId": "8c347282-9905-45dd-97aa-161296881bbf"
      },
      "source": [
        "def correlation_matrix(df):\n",
        "    from matplotlib import pyplot as plt\n",
        "    from matplotlib import cm as cm\n",
        "\n",
        "    fig = plt.figure()\n",
        "    ax1 = fig.add_subplot(111)\n",
        "    cmap = cm.get_cmap('jet', 10)\n",
        "    cax = ax1.imshow(df.corr(), interpolation=\"nearest\", cmap=cmap)\n",
        "    ax1.grid(True)\n",
        "    plt.title('Feature Correlation')\n",
        "    labels=['overall_daily','cashbox_MAX','hh_500','value1','value2','NEAR_Malls','NEAR_Business_centers','NEAR_Stations']\n",
        "    ax1.set_xticklabels(labels,fontsize=6)\n",
        "    ax1.set_yticklabels(labels,fontsize=6)\n",
        "    fig.colorbar(cax, ticks=[.75,.8,.85,.90,.95,1])\n",
        "    plt.show()\n",
        "\n",
        "correlation_matrix(xl)"
      ],
      "execution_count": 657,
      "outputs": [
        {
          "output_type": "display_data",
          "data": {
            "image/png": "[encoded data removed]",
            "text/plain": [
              "<Figure size 432x288 with 2 Axes>"
            ]
          },
          "metadata": {
            "tags": []
          }
        }
      ]
    },
    {
      "cell_type": "code",
      "metadata": {
        "id": "xjJCyHsc0ljw",
        "colab_type": "code",
        "colab": {
          "base_uri": "https://localhost:8080/",
          "height": 175
        },
        "outputId": "fe30d64f-6866-4ebe-b0d7-c4080468bad5"
      },
      "source": [
        "cmap = cmap=sns.diverging_palette(5, 250, as_cmap=True)\n",
        "\n",
        "def magnify():\n",
        "    return [dict(selector=\"th\",\n",
        "                 props=[(\"font-size\", \"7pt\")]),\n",
        "            dict(selector=\"td\",\n",
        "                 props=[('padding', \"0em 0em\")]),\n",
        "            dict(selector=\"th:hover\",\n",
        "                 props=[(\"font-size\", \"12pt\")]),\n",
        "            dict(selector=\"tr:hover td:hover\",\n",
        "                 props=[('max-width', '200px'),\n",
        "                        ('font-size', '12pt')])\n",
        "]\n",
        "\n",
        "xl.corr().style.background_gradient(cmap, axis=1)\\\n",
        "    .set_properties(**{'max-width': '80px', 'font-size': '10pt'})\\\n",
        "    .set_caption(\"Hover to magify\")\\\n",
        "    .set_precision(2)\\\n",
        "    .set_table_styles(magnify())"
      ],
      "execution_count": 659,
      "outputs": [
        {
          "output_type": "execute_result",
          "data": {
            "text/html": [
              "<style  type=\"text/css\" >\n",
              "    #T_c4dd7628_141e_11ea_8b46_0242ac1c0002 th {\n",
              "          font-size: 7pt;\n",
              "    }    #T_c4dd7628_141e_11ea_8b46_0242ac1c0002 td {\n",
              "          padding: 0em 0em;\n",
              "    }    #T_c4dd7628_141e_11ea_8b46_0242ac1c0002 th:hover {\n",
              "          font-size: 12pt;\n",
              "    }    #T_c4dd7628_141e_11ea_8b46_0242ac1c0002 tr:hover td:hover {\n",
              "          max-width: 200px;\n",
              "          font-size: 12pt;\n",
              "    }    #T_c4dd7628_141e_11ea_8b46_0242ac1c0002row0_col0 {\n",
              "            background-color:  #4479bb;\n",
              "            color:  #000000;\n",
              "            max-width:  80px;\n",
              "            font-size:  10pt;\n",
              "        }    #T_c4dd7628_141e_11ea_8b46_0242ac1c0002row0_col1 {\n",
              "            background-color:  #7ea2d0;\n",
              "            color:  #000000;\n",
              "            max-width:  80px;\n",
              "            font-size:  10pt;\n",
              "        }    #T_c4dd7628_141e_11ea_8b46_0242ac1c0002row0_col2 {\n",
              "            background-color:  #f1b8c3;\n",
              "            color:  #000000;\n",
              "            max-width:  80px;\n",
              "            font-size:  10pt;\n",
              "        }    #T_c4dd7628_141e_11ea_8b46_0242ac1c0002row0_col3 {\n",
              "            background-color:  #e16c84;\n",
              "            color:  #000000;\n",
              "            max-width:  80px;\n",
              "            font-size:  10pt;\n",
              "        }    #T_c4dd7628_141e_11ea_8b46_0242ac1c0002row0_col4 {\n",
              "            background-color:  #eda6b4;\n",
              "            color:  #000000;\n",
              "            max-width:  80px;\n",
              "            font-size:  10pt;\n",
              "        }    #T_c4dd7628_141e_11ea_8b46_0242ac1c0002row0_col5 {\n",
              "            background-color:  #da4966;\n",
              "            color:  #000000;\n",
              "            max-width:  80px;\n",
              "            font-size:  10pt;\n",
              "        }    #T_c4dd7628_141e_11ea_8b46_0242ac1c0002row0_col6 {\n",
              "            background-color:  #d73c5b;\n",
              "            color:  #f1f1f1;\n",
              "            max-width:  80px;\n",
              "            font-size:  10pt;\n",
              "        }    #T_c4dd7628_141e_11ea_8b46_0242ac1c0002row1_col0 {\n",
              "            background-color:  #7da2cf;\n",
              "            color:  #000000;\n",
              "            max-width:  80px;\n",
              "            font-size:  10pt;\n",
              "        }    #T_c4dd7628_141e_11ea_8b46_0242ac1c0002row1_col1 {\n",
              "            background-color:  #4479bb;\n",
              "            color:  #000000;\n",
              "            max-width:  80px;\n",
              "            font-size:  10pt;\n",
              "        }    #T_c4dd7628_141e_11ea_8b46_0242ac1c0002row1_col2 {\n",
              "            background-color:  #f3c6cf;\n",
              "            color:  #000000;\n",
              "            max-width:  80px;\n",
              "            font-size:  10pt;\n",
              "        }    #T_c4dd7628_141e_11ea_8b46_0242ac1c0002row1_col3 {\n",
              "            background-color:  #dd5872;\n",
              "            color:  #000000;\n",
              "            max-width:  80px;\n",
              "            font-size:  10pt;\n",
              "        }    #T_c4dd7628_141e_11ea_8b46_0242ac1c0002row1_col4 {\n",
              "            background-color:  #ea9aaa;\n",
              "            color:  #000000;\n",
              "            max-width:  80px;\n",
              "            font-size:  10pt;\n",
              "        }    #T_c4dd7628_141e_11ea_8b46_0242ac1c0002row1_col5 {\n",
              "            background-color:  #d73c5b;\n",
              "            color:  #f1f1f1;\n",
              "            max-width:  80px;\n",
              "            font-size:  10pt;\n",
              "        }    #T_c4dd7628_141e_11ea_8b46_0242ac1c0002row1_col6 {\n",
              "            background-color:  #d8415f;\n",
              "            color:  #f1f1f1;\n",
              "            max-width:  80px;\n",
              "            font-size:  10pt;\n",
              "        }    #T_c4dd7628_141e_11ea_8b46_0242ac1c0002row2_col0 {\n",
              "            background-color:  #eeacba;\n",
              "            color:  #000000;\n",
              "            max-width:  80px;\n",
              "            font-size:  10pt;\n",
              "        }    #T_c4dd7628_141e_11ea_8b46_0242ac1c0002row2_col1 {\n",
              "            background-color:  #f0b5c1;\n",
              "            color:  #000000;\n",
              "            max-width:  80px;\n",
              "            font-size:  10pt;\n",
              "        }    #T_c4dd7628_141e_11ea_8b46_0242ac1c0002row2_col2 {\n",
              "            background-color:  #4479bb;\n",
              "            color:  #000000;\n",
              "            max-width:  80px;\n",
              "            font-size:  10pt;\n",
              "        }    #T_c4dd7628_141e_11ea_8b46_0242ac1c0002row2_col3 {\n",
              "            background-color:  #d73c5b;\n",
              "            color:  #f1f1f1;\n",
              "            max-width:  80px;\n",
              "            font-size:  10pt;\n",
              "        }    #T_c4dd7628_141e_11ea_8b46_0242ac1c0002row2_col4 {\n",
              "            background-color:  #eeaebb;\n",
              "            color:  #000000;\n",
              "            max-width:  80px;\n",
              "            font-size:  10pt;\n",
              "        }    #T_c4dd7628_141e_11ea_8b46_0242ac1c0002row2_col5 {\n",
              "            background-color:  #d94764;\n",
              "            color:  #f1f1f1;\n",
              "            max-width:  80px;\n",
              "            font-size:  10pt;\n",
              "        }    #T_c4dd7628_141e_11ea_8b46_0242ac1c0002row2_col6 {\n",
              "            background-color:  #d73d5c;\n",
              "            color:  #f1f1f1;\n",
              "            max-width:  80px;\n",
              "            font-size:  10pt;\n",
              "        }    #T_c4dd7628_141e_11ea_8b46_0242ac1c0002row3_col0 {\n",
              "            background-color:  #e991a3;\n",
              "            color:  #000000;\n",
              "            max-width:  80px;\n",
              "            font-size:  10pt;\n",
              "        }    #T_c4dd7628_141e_11ea_8b46_0242ac1c0002row3_col1 {\n",
              "            background-color:  #e3788d;\n",
              "            color:  #000000;\n",
              "            max-width:  80px;\n",
              "            font-size:  10pt;\n",
              "        }    #T_c4dd7628_141e_11ea_8b46_0242ac1c0002row3_col2 {\n",
              "            background-color:  #e3748a;\n",
              "            color:  #000000;\n",
              "            max-width:  80px;\n",
              "            font-size:  10pt;\n",
              "        }    #T_c4dd7628_141e_11ea_8b46_0242ac1c0002row3_col3 {\n",
              "            background-color:  #4479bb;\n",
              "            color:  #000000;\n",
              "            max-width:  80px;\n",
              "            font-size:  10pt;\n",
              "        }    #T_c4dd7628_141e_11ea_8b46_0242ac1c0002row3_col4 {\n",
              "            background-color:  #789ece;\n",
              "            color:  #000000;\n",
              "            max-width:  80px;\n",
              "            font-size:  10pt;\n",
              "        }    #T_c4dd7628_141e_11ea_8b46_0242ac1c0002row3_col5 {\n",
              "            background-color:  #df617a;\n",
              "            color:  #000000;\n",
              "            max-width:  80px;\n",
              "            font-size:  10pt;\n",
              "        }    #T_c4dd7628_141e_11ea_8b46_0242ac1c0002row3_col6 {\n",
              "            background-color:  #d73c5b;\n",
              "            color:  #f1f1f1;\n",
              "            max-width:  80px;\n",
              "            font-size:  10pt;\n",
              "        }    #T_c4dd7628_141e_11ea_8b46_0242ac1c0002row4_col0 {\n",
              "            background-color:  #ea9aaa;\n",
              "            color:  #000000;\n",
              "            max-width:  80px;\n",
              "            font-size:  10pt;\n",
              "        }    #T_c4dd7628_141e_11ea_8b46_0242ac1c0002row4_col1 {\n",
              "            background-color:  #e68699;\n",
              "            color:  #000000;\n",
              "            max-width:  80px;\n",
              "            font-size:  10pt;\n",
              "        }    #T_c4dd7628_141e_11ea_8b46_0242ac1c0002row4_col2 {\n",
              "            background-color:  #eeaebb;\n",
              "            color:  #000000;\n",
              "            max-width:  80px;\n",
              "            font-size:  10pt;\n",
              "        }    #T_c4dd7628_141e_11ea_8b46_0242ac1c0002row4_col3 {\n",
              "            background-color:  #82a5d1;\n",
              "            color:  #000000;\n",
              "            max-width:  80px;\n",
              "            font-size:  10pt;\n",
              "        }    #T_c4dd7628_141e_11ea_8b46_0242ac1c0002row4_col4 {\n",
              "            background-color:  #4479bb;\n",
              "            color:  #000000;\n",
              "            max-width:  80px;\n",
              "            font-size:  10pt;\n",
              "        }    #T_c4dd7628_141e_11ea_8b46_0242ac1c0002row4_col5 {\n",
              "            background-color:  #df637c;\n",
              "            color:  #000000;\n",
              "            max-width:  80px;\n",
              "            font-size:  10pt;\n",
              "        }    #T_c4dd7628_141e_11ea_8b46_0242ac1c0002row4_col6 {\n",
              "            background-color:  #d73c5b;\n",
              "            color:  #f1f1f1;\n",
              "            max-width:  80px;\n",
              "            font-size:  10pt;\n",
              "        }    #T_c4dd7628_141e_11ea_8b46_0242ac1c0002row5_col0 {\n",
              "            background-color:  #dc526e;\n",
              "            color:  #000000;\n",
              "            max-width:  80px;\n",
              "            font-size:  10pt;\n",
              "        }    #T_c4dd7628_141e_11ea_8b46_0242ac1c0002row5_col1 {\n",
              "            background-color:  #d73c5b;\n",
              "            color:  #f1f1f1;\n",
              "            max-width:  80px;\n",
              "            font-size:  10pt;\n",
              "        }    #T_c4dd7628_141e_11ea_8b46_0242ac1c0002row5_col2 {\n",
              "            background-color:  #de5f79;\n",
              "            color:  #000000;\n",
              "            max-width:  80px;\n",
              "            font-size:  10pt;\n",
              "        }    #T_c4dd7628_141e_11ea_8b46_0242ac1c0002row5_col3 {\n",
              "            background-color:  #d83e5d;\n",
              "            color:  #f1f1f1;\n",
              "            max-width:  80px;\n",
              "            font-size:  10pt;\n",
              "        }    #T_c4dd7628_141e_11ea_8b46_0242ac1c0002row5_col4 {\n",
              "            background-color:  #e47a90;\n",
              "            color:  #000000;\n",
              "            max-width:  80px;\n",
              "            font-size:  10pt;\n",
              "        }    #T_c4dd7628_141e_11ea_8b46_0242ac1c0002row5_col5 {\n",
              "            background-color:  #4479bb;\n",
              "            color:  #000000;\n",
              "            max-width:  80px;\n",
              "            font-size:  10pt;\n",
              "        }    #T_c4dd7628_141e_11ea_8b46_0242ac1c0002row5_col6 {\n",
              "            background-color:  #de5e77;\n",
              "            color:  #000000;\n",
              "            max-width:  80px;\n",
              "            font-size:  10pt;\n",
              "        }    #T_c4dd7628_141e_11ea_8b46_0242ac1c0002row6_col0 {\n",
              "            background-color:  #e0667e;\n",
              "            color:  #000000;\n",
              "            max-width:  80px;\n",
              "            font-size:  10pt;\n",
              "        }    #T_c4dd7628_141e_11ea_8b46_0242ac1c0002row6_col1 {\n",
              "            background-color:  #df637c;\n",
              "            color:  #000000;\n",
              "            max-width:  80px;\n",
              "            font-size:  10pt;\n",
              "        }    #T_c4dd7628_141e_11ea_8b46_0242ac1c0002row6_col2 {\n",
              "            background-color:  #e3768c;\n",
              "            color:  #000000;\n",
              "            max-width:  80px;\n",
              "            font-size:  10pt;\n",
              "        }    #T_c4dd7628_141e_11ea_8b46_0242ac1c0002row6_col3 {\n",
              "            background-color:  #d73c5b;\n",
              "            color:  #f1f1f1;\n",
              "            max-width:  80px;\n",
              "            font-size:  10pt;\n",
              "        }    #T_c4dd7628_141e_11ea_8b46_0242ac1c0002row6_col4 {\n",
              "            background-color:  #e3748a;\n",
              "            color:  #000000;\n",
              "            max-width:  80px;\n",
              "            font-size:  10pt;\n",
              "        }    #T_c4dd7628_141e_11ea_8b46_0242ac1c0002row6_col5 {\n",
              "            background-color:  #e57d92;\n",
              "            color:  #000000;\n",
              "            max-width:  80px;\n",
              "            font-size:  10pt;\n",
              "        }    #T_c4dd7628_141e_11ea_8b46_0242ac1c0002row6_col6 {\n",
              "            background-color:  #4479bb;\n",
              "            color:  #000000;\n",
              "            max-width:  80px;\n",
              "            font-size:  10pt;\n",
              "        }</style><table id=\"T_c4dd7628_141e_11ea_8b46_0242ac1c0002\" ><caption>Hover to magify</caption><thead>    <tr>        <th class=\"blank level0\" ></th>        <th class=\"col_heading level0 col0\" >overall_daily</th>        <th class=\"col_heading level0 col1\" >cashbox_MAX</th>        <th class=\"col_heading level0 col2\" >hh_500</th>        <th class=\"col_heading level0 col3\" >value1</th>        <th class=\"col_heading level0 col4\" >value2</th>        <th class=\"col_heading level0 col5\" >NEAR_Malls</th>        <th class=\"col_heading level0 col6\" >NEAR_Stations</th>    </tr></thead><tbody>\n",
              "                <tr>\n",
              "                        <th id=\"T_c4dd7628_141e_11ea_8b46_0242ac1c0002level0_row0\" class=\"row_heading level0 row0\" >overall_daily</th>\n",
              "                        <td id=\"T_c4dd7628_141e_11ea_8b46_0242ac1c0002row0_col0\" class=\"data row0 col0\" >1</td>\n",
              "                        <td id=\"T_c4dd7628_141e_11ea_8b46_0242ac1c0002row0_col1\" class=\"data row0 col1\" >0.86</td>\n",
              "                        <td id=\"T_c4dd7628_141e_11ea_8b46_0242ac1c0002row0_col2\" class=\"data row0 col2\" >0.45</td>\n",
              "                        <td id=\"T_c4dd7628_141e_11ea_8b46_0242ac1c0002row0_col3\" class=\"data row0 col3\" >0.27</td>\n",
              "                        <td id=\"T_c4dd7628_141e_11ea_8b46_0242ac1c0002row0_col4\" class=\"data row0 col4\" >0.4</td>\n",
              "                        <td id=\"T_c4dd7628_141e_11ea_8b46_0242ac1c0002row0_col5\" class=\"data row0 col5\" >0.2</td>\n",
              "                        <td id=\"T_c4dd7628_141e_11ea_8b46_0242ac1c0002row0_col6\" class=\"data row0 col6\" >0.16</td>\n",
              "            </tr>\n",
              "            <tr>\n",
              "                        <th id=\"T_c4dd7628_141e_11ea_8b46_0242ac1c0002level0_row1\" class=\"row_heading level0 row1\" >cashbox_MAX</th>\n",
              "                        <td id=\"T_c4dd7628_141e_11ea_8b46_0242ac1c0002row1_col0\" class=\"data row1 col0\" >0.86</td>\n",
              "                        <td id=\"T_c4dd7628_141e_11ea_8b46_0242ac1c0002row1_col1\" class=\"data row1 col1\" >1</td>\n",
              "                        <td id=\"T_c4dd7628_141e_11ea_8b46_0242ac1c0002row1_col2\" class=\"data row1 col2\" >0.47</td>\n",
              "                        <td id=\"T_c4dd7628_141e_11ea_8b46_0242ac1c0002row1_col3\" class=\"data row1 col3\" >0.21</td>\n",
              "                        <td id=\"T_c4dd7628_141e_11ea_8b46_0242ac1c0002row1_col4\" class=\"data row1 col4\" >0.36</td>\n",
              "                        <td id=\"T_c4dd7628_141e_11ea_8b46_0242ac1c0002row1_col5\" class=\"data row1 col5\" >0.14</td>\n",
              "                        <td id=\"T_c4dd7628_141e_11ea_8b46_0242ac1c0002row1_col6\" class=\"data row1 col6\" >0.15</td>\n",
              "            </tr>\n",
              "            <tr>\n",
              "                        <th id=\"T_c4dd7628_141e_11ea_8b46_0242ac1c0002level0_row2\" class=\"row_heading level0 row2\" >hh_500</th>\n",
              "                        <td id=\"T_c4dd7628_141e_11ea_8b46_0242ac1c0002row2_col0\" class=\"data row2 col0\" >0.45</td>\n",
              "                        <td id=\"T_c4dd7628_141e_11ea_8b46_0242ac1c0002row2_col1\" class=\"data row2 col1\" >0.47</td>\n",
              "                        <td id=\"T_c4dd7628_141e_11ea_8b46_0242ac1c0002row2_col2\" class=\"data row2 col2\" >1</td>\n",
              "                        <td id=\"T_c4dd7628_141e_11ea_8b46_0242ac1c0002row2_col3\" class=\"data row2 col3\" >0.2</td>\n",
              "                        <td id=\"T_c4dd7628_141e_11ea_8b46_0242ac1c0002row2_col4\" class=\"data row2 col4\" >0.45</td>\n",
              "                        <td id=\"T_c4dd7628_141e_11ea_8b46_0242ac1c0002row2_col5\" class=\"data row2 col5\" >0.22</td>\n",
              "                        <td id=\"T_c4dd7628_141e_11ea_8b46_0242ac1c0002row2_col6\" class=\"data row2 col6\" >0.2</td>\n",
              "            </tr>\n",
              "            <tr>\n",
              "                        <th id=\"T_c4dd7628_141e_11ea_8b46_0242ac1c0002level0_row3\" class=\"row_heading level0 row3\" >value1</th>\n",
              "                        <td id=\"T_c4dd7628_141e_11ea_8b46_0242ac1c0002row3_col0\" class=\"data row3 col0\" >0.27</td>\n",
              "                        <td id=\"T_c4dd7628_141e_11ea_8b46_0242ac1c0002row3_col1\" class=\"data row3 col1\" >0.21</td>\n",
              "                        <td id=\"T_c4dd7628_141e_11ea_8b46_0242ac1c0002row3_col2\" class=\"data row3 col2\" >0.2</td>\n",
              "                        <td id=\"T_c4dd7628_141e_11ea_8b46_0242ac1c0002row3_col3\" class=\"data row3 col3\" >1</td>\n",
              "                        <td id=\"T_c4dd7628_141e_11ea_8b46_0242ac1c0002row3_col4\" class=\"data row3 col4\" >0.86</td>\n",
              "                        <td id=\"T_c4dd7628_141e_11ea_8b46_0242ac1c0002row3_col5\" class=\"data row3 col5\" >0.15</td>\n",
              "                        <td id=\"T_c4dd7628_141e_11ea_8b46_0242ac1c0002row3_col6\" class=\"data row3 col6\" >0.047</td>\n",
              "            </tr>\n",
              "            <tr>\n",
              "                        <th id=\"T_c4dd7628_141e_11ea_8b46_0242ac1c0002level0_row4\" class=\"row_heading level0 row4\" >value2</th>\n",
              "                        <td id=\"T_c4dd7628_141e_11ea_8b46_0242ac1c0002row4_col0\" class=\"data row4 col0\" >0.4</td>\n",
              "                        <td id=\"T_c4dd7628_141e_11ea_8b46_0242ac1c0002row4_col1\" class=\"data row4 col1\" >0.36</td>\n",
              "                        <td id=\"T_c4dd7628_141e_11ea_8b46_0242ac1c0002row4_col2\" class=\"data row4 col2\" >0.45</td>\n",
              "                        <td id=\"T_c4dd7628_141e_11ea_8b46_0242ac1c0002row4_col3\" class=\"data row4 col3\" >0.86</td>\n",
              "                        <td id=\"T_c4dd7628_141e_11ea_8b46_0242ac1c0002row4_col4\" class=\"data row4 col4\" >1</td>\n",
              "                        <td id=\"T_c4dd7628_141e_11ea_8b46_0242ac1c0002row4_col5\" class=\"data row4 col5\" >0.29</td>\n",
              "                        <td id=\"T_c4dd7628_141e_11ea_8b46_0242ac1c0002row4_col6\" class=\"data row4 col6\" >0.2</td>\n",
              "            </tr>\n",
              "            <tr>\n",
              "                        <th id=\"T_c4dd7628_141e_11ea_8b46_0242ac1c0002level0_row5\" class=\"row_heading level0 row5\" >NEAR_Malls</th>\n",
              "                        <td id=\"T_c4dd7628_141e_11ea_8b46_0242ac1c0002row5_col0\" class=\"data row5 col0\" >0.2</td>\n",
              "                        <td id=\"T_c4dd7628_141e_11ea_8b46_0242ac1c0002row5_col1\" class=\"data row5 col1\" >0.14</td>\n",
              "                        <td id=\"T_c4dd7628_141e_11ea_8b46_0242ac1c0002row5_col2\" class=\"data row5 col2\" >0.22</td>\n",
              "                        <td id=\"T_c4dd7628_141e_11ea_8b46_0242ac1c0002row5_col3\" class=\"data row5 col3\" >0.15</td>\n",
              "                        <td id=\"T_c4dd7628_141e_11ea_8b46_0242ac1c0002row5_col4\" class=\"data row5 col4\" >0.29</td>\n",
              "                        <td id=\"T_c4dd7628_141e_11ea_8b46_0242ac1c0002row5_col5\" class=\"data row5 col5\" >1</td>\n",
              "                        <td id=\"T_c4dd7628_141e_11ea_8b46_0242ac1c0002row5_col6\" class=\"data row5 col6\" >0.22</td>\n",
              "            </tr>\n",
              "            <tr>\n",
              "                        <th id=\"T_c4dd7628_141e_11ea_8b46_0242ac1c0002level0_row6\" class=\"row_heading level0 row6\" >NEAR_Stations</th>\n",
              "                        <td id=\"T_c4dd7628_141e_11ea_8b46_0242ac1c0002row6_col0\" class=\"data row6 col0\" >0.16</td>\n",
              "                        <td id=\"T_c4dd7628_141e_11ea_8b46_0242ac1c0002row6_col1\" class=\"data row6 col1\" >0.15</td>\n",
              "                        <td id=\"T_c4dd7628_141e_11ea_8b46_0242ac1c0002row6_col2\" class=\"data row6 col2\" >0.2</td>\n",
              "                        <td id=\"T_c4dd7628_141e_11ea_8b46_0242ac1c0002row6_col3\" class=\"data row6 col3\" >0.047</td>\n",
              "                        <td id=\"T_c4dd7628_141e_11ea_8b46_0242ac1c0002row6_col4\" class=\"data row6 col4\" >0.2</td>\n",
              "                        <td id=\"T_c4dd7628_141e_11ea_8b46_0242ac1c0002row6_col5\" class=\"data row6 col5\" >0.22</td>\n",
              "                        <td id=\"T_c4dd7628_141e_11ea_8b46_0242ac1c0002row6_col6\" class=\"data row6 col6\" >1</td>\n",
              "            </tr>\n",
              "    </tbody></table>"
            ],
            "text/plain": [
              "<pandas.io.formats.style.Styler at 0x7f6b888cec50>"
            ]
          },
          "metadata": {
            "tags": []
          },
          "execution_count": 659
        }
      ]
    },
    {
      "cell_type": "markdown",
      "metadata": {
        "id": "9JYuQ7Ui1qvR",
        "colab_type": "text"
      },
      "source": [
        "# Вывод: самый высокий уровень корреляции среднего кол-ва людей в день с value1, value2, hh_500."
      ]
    }
  ]
}